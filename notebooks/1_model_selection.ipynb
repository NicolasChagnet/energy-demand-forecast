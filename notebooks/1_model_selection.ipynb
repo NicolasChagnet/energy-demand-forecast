{
 "cells": [
  {
   "cell_type": "code",
   "execution_count": 1,
   "metadata": {},
   "outputs": [],
   "source": [
    "%load_ext autoreload\n",
    "%autoreload 2"
   ]
  },
  {
   "cell_type": "code",
   "execution_count": 2,
   "metadata": {},
   "outputs": [
    {
     "name": "stderr",
     "output_type": "stream",
     "text": [
      "/home/nchagnet/devs/tutorials/energy-demand-forecast/.venv/lib/python3.11/site-packages/tqdm/auto.py:21: TqdmWarning: IProgress not found. Please update jupyter and ipywidgets. See https://ipywidgets.readthedocs.io/en/stable/user_install.html\n",
      "  from .autonotebook import tqdm as notebook_tqdm\n"
     ]
    }
   ],
   "source": [
    "# Imports\n",
    "import numpy as np\n",
    "import pandas as pd\n",
    "from matplotlib import pyplot as plt\n",
    "import sys\n",
    "\n",
    "sys.path.insert(0, \"..\")\n",
    "from src import data, config, visualization, preprocessing, utils, models"
   ]
  },
  {
   "cell_type": "code",
   "execution_count": 3,
   "metadata": {},
   "outputs": [
    {
     "data": {
      "text/plain": [
       "<module 'logging' from '/home/nchagnet/.local/share/uv/python/cpython-3.11.9-linux-x86_64-gnu/lib/python3.11/logging/__init__.py'>"
      ]
     },
     "execution_count": 3,
     "metadata": {},
     "output_type": "execute_result"
    }
   ],
   "source": [
    "from importlib import reload  # Not needed in Python 2\n",
    "import logging\n",
    "\n",
    "reload(logging)"
   ]
  },
  {
   "cell_type": "markdown",
   "metadata": {},
   "source": [
    "## Model comparison"
   ]
  },
  {
   "cell_type": "markdown",
   "metadata": {},
   "source": [
    "We are going to use a whole day as testing data"
   ]
  },
  {
   "cell_type": "code",
   "execution_count": 4,
   "metadata": {},
   "outputs": [
    {
     "name": "stdout",
     "output_type": "stream",
     "text": [
      "Reference MAPE over 1 days: 0.019728608087665307, MAE: 993.4942341325607\n"
     ]
    }
   ],
   "source": [
    "from sklearn.metrics import mean_absolute_error, mean_absolute_percentage_error\n",
    "\n",
    "interpolator = preprocessing.LinearlyInterpolateTS()\n",
    "y_actual = interpolator.apply(data.load_timeseries())\n",
    "y_forecast = interpolator.apply(data.load_timeseries_forecast())\n",
    "n_days = 1\n",
    "end_dev = y_actual.index.max() - pd.Timedelta(days=n_days)\n",
    "\n",
    "reference_mape = mean_absolute_percentage_error(y_actual, y_forecast)\n",
    "reference_mae = mean_absolute_error(y_actual, y_forecast)\n",
    "print(f\"Reference MAPE over {n_days} days: {reference_mape}, MAE: {reference_mae}\")"
   ]
  },
  {
   "cell_type": "markdown",
   "metadata": {},
   "source": [
    "Let's start by comparing LGBM with XGBoost using adaptive train size."
   ]
  },
  {
   "cell_type": "code",
   "execution_count": 5,
   "metadata": {},
   "outputs": [],
   "source": [
    "model_lgbm = models.ForecasterRecursiveLGBM(iteration=0, end_dev=end_dev, save_model_to_file=False)\n",
    "model_xgb = models.ForecasterRecursiveXGB(iteration=0, end_dev=end_dev, save_model_to_file=False)"
   ]
  },
  {
   "cell_type": "markdown",
   "metadata": {},
   "source": [
    "We tune them both using the dev set."
   ]
  },
  {
   "cell_type": "code",
   "execution_count": 6,
   "metadata": {},
   "outputs": [
    {
     "name": "stderr",
     "output_type": "stream",
     "text": [
      "[I 2025-01-03 21:34:50,737] A new study created in memory with name: no-name-67322fc6-fc01-4725-8142-ba1096acd837\n",
      "  0%|          | 0/20 [00:00<?, ?it/s][I 2025-01-03 21:34:56,397] Trial 0 finished with value: 7965.995425054501 and parameters: {'num_leaves': 211, 'max_depth': 10, 'learning_rate': 0.009245186633631634, 'n_estimators': 67, 'reg_alpha': 81.10396463017283, 'reg_lambda': 96.73596682592115, 'lags': 9}. Best is trial 0 with value: 7965.995425054501.\n",
      "Best trial: 0. Best value: 7966:   5%|▌         | 1/20 [00:05<01:47,  5.66s/it][I 2025-01-03 21:35:08,400] Trial 1 finished with value: 4478.2195484245 and parameters: {'num_leaves': 177, 'max_depth': 16, 'learning_rate': 0.011088952274345613, 'n_estimators': 231, 'reg_alpha': 46.573652039848916, 'reg_lambda': 13.080472458555668, 'lags': 19}. Best is trial 1 with value: 4478.2195484245.\n",
      "Best trial: 1. Best value: 4478.22:  10%|█         | 2/20 [00:17<02:49,  9.39s/it][I 2025-01-03 21:35:13,010] Trial 2 finished with value: 8278.32840439986 and parameters: {'num_leaves': 225, 'max_depth': 10, 'learning_rate': 0.0023708014954321997, 'n_estimators': 68, 'reg_alpha': 83.91642204949868, 'reg_lambda': 88.65214121046148, 'lags': 14}. Best is trial 1 with value: 4478.2195484245.\n",
      "Best trial: 1. Best value: 4478.22:  15%|█▌        | 3/20 [00:22<02:02,  7.21s/it][I 2025-01-03 21:35:21,664] Trial 3 finished with value: 7952.983270019883 and parameters: {'num_leaves': 106, 'max_depth': 4, 'learning_rate': 0.0014926854415914174, 'n_estimators': 755, 'reg_alpha': 2.9666104608563026, 'reg_lambda': 44.5259373799897, 'lags': 5}. Best is trial 1 with value: 4478.2195484245.\n",
      "Best trial: 1. Best value: 4478.22:  20%|██        | 4/20 [00:30<02:04,  7.78s/it][I 2025-01-03 21:35:31,233] Trial 4 finished with value: 1728.9383709908145 and parameters: {'num_leaves': 197, 'max_depth': 8, 'learning_rate': 0.03598376318674633, 'n_estimators': 509, 'reg_alpha': 59.446680061071, 'reg_lambda': 89.02988764154043, 'lags': 21}. Best is trial 4 with value: 1728.9383709908145.\n",
      "Best trial: 4. Best value: 1728.94:  25%|██▌       | 5/20 [00:40<02:06,  8.42s/it][I 2025-01-03 21:35:36,576] Trial 5 finished with value: 8209.724575172897 and parameters: {'num_leaves': 60, 'max_depth': 8, 'learning_rate': 0.0014368577318027, 'n_estimators': 174, 'reg_alpha': 64.34027013439807, 'reg_lambda': 21.225289827043696, 'lags': 9}. Best is trial 4 with value: 1728.9383709908145.\n",
      "Best trial: 4. Best value: 1728.94:  30%|███       | 6/20 [00:45<01:43,  7.38s/it][I 2025-01-03 21:35:48,592] Trial 6 finished with value: 1808.0485740339118 and parameters: {'num_leaves': 147, 'max_depth': 4, 'learning_rate': 0.08103554392420256, 'n_estimators': 900, 'reg_alpha': 65.514819668848, 'reg_lambda': 58.81132872857016, 'lags': 2}. Best is trial 4 with value: 1728.9383709908145.\n",
      "Best trial: 4. Best value: 1728.94:  35%|███▌      | 7/20 [00:57<01:55,  8.89s/it][I 2025-01-03 21:36:08,759] Trial 7 finished with value: 1744.1387128998244 and parameters: {'num_leaves': 248, 'max_depth': 11, 'learning_rate': 0.07079527011794501, 'n_estimators': 108, 'reg_alpha': 74.63408886481268, 'reg_lambda': 55.56048278361724, 'lags': 11}. Best is trial 4 with value: 1728.9383709908145.\n",
      "Best trial: 4. Best value: 1728.94:  40%|████      | 8/20 [01:18<02:29, 12.48s/it][I 2025-01-03 21:36:20,855] Trial 8 finished with value: 1912.357420790744 and parameters: {'num_leaves': 120, 'max_depth': 3, 'learning_rate': 0.08291135515697437, 'n_estimators': 673, 'reg_alpha': 28.16573320854198, 'reg_lambda': 88.49546492696068, 'lags': 21}. Best is trial 4 with value: 1728.9383709908145.\n",
      "Best trial: 4. Best value: 1728.94:  45%|████▌     | 9/20 [01:30<02:15, 12.36s/it][I 2025-01-03 21:36:31,613] Trial 9 finished with value: 2420.4129668442183 and parameters: {'num_leaves': 64, 'max_depth': 4, 'learning_rate': 0.015805105713418286, 'n_estimators': 362, 'reg_alpha': 61.21252409422091, 'reg_lambda': 49.82858170994603, 'lags': 15}. Best is trial 4 with value: 1728.9383709908145.\n",
      "Best trial: 4. Best value: 1728.94:  50%|█████     | 10/20 [01:40<01:58, 11.87s/it][I 2025-01-03 21:36:57,379] Trial 10 finished with value: 1703.5052861094543 and parameters: {'num_leaves': 178, 'max_depth': 14, 'learning_rate': 0.028248163499825653, 'n_estimators': 422, 'reg_alpha': 39.70925321392818, 'reg_lambda': 71.66948054012838, 'lags': 8}. Best is trial 10 with value: 1703.5052861094543.\n",
      "Best trial: 10. Best value: 1703.51:  55%|█████▌    | 11/20 [02:06<02:25, 16.12s/it][I 2025-01-03 21:37:10,295] Trial 11 finished with value: 1709.3297531832827 and parameters: {'num_leaves': 175, 'max_depth': 14, 'learning_rate': 0.030686889809095834, 'n_estimators': 415, 'reg_alpha': 39.84130204018175, 'reg_lambda': 75.79645155682701, 'lags': 8}. Best is trial 10 with value: 1703.5052861094543.\n",
      "Best trial: 10. Best value: 1703.51:  60%|██████    | 12/20 [02:19<02:01, 15.15s/it][I 2025-01-03 21:37:22,588] Trial 12 finished with value: 1723.0867631764572 and parameters: {'num_leaves': 162, 'max_depth': 15, 'learning_rate': 0.024355223556574424, 'n_estimators': 341, 'reg_alpha': 34.57506042891438, 'reg_lambda': 72.38752737258412, 'lags': 8}. Best is trial 10 with value: 1703.5052861094543.\n",
      "Best trial: 10. Best value: 1703.51:  65%|██████▌   | 13/20 [02:31<01:39, 14.28s/it][I 2025-01-03 21:37:28,309] Trial 13 finished with value: 1823.8776681162788 and parameters: {'num_leaves': 106, 'max_depth': 13, 'learning_rate': 0.1983892421111352, 'n_estimators': 388, 'reg_alpha': 99.29470198105588, 'reg_lambda': 72.50621396152637, 'lags': 8}. Best is trial 10 with value: 1703.5052861094543.\n",
      "Best trial: 10. Best value: 1703.51:  70%|███████   | 14/20 [02:37<01:10, 11.70s/it][I 2025-01-03 21:37:32,095] Trial 14 finished with value: 7899.337634967385 and parameters: {'num_leaves': 28, 'max_depth': 13, 'learning_rate': 0.005048845799922966, 'n_estimators': 213, 'reg_alpha': 18.61878879849427, 'reg_lambda': 71.98069040227972, 'lags': 8}. Best is trial 10 with value: 1703.5052861094543.\n",
      "Best trial: 10. Best value: 1703.51:  75%|███████▌  | 15/20 [02:41<00:46,  9.31s/it][I 2025-01-03 21:37:41,715] Trial 15 finished with value: 1625.008646997046 and parameters: {'num_leaves': 181, 'max_depth': 14, 'learning_rate': 0.03839147179792615, 'n_estimators': 548, 'reg_alpha': 44.36037596814787, 'reg_lambda': 27.438649626465327, 'lags': 1}. Best is trial 15 with value: 1625.008646997046.\n",
      "Best trial: 15. Best value: 1625.01:  80%|████████  | 16/20 [02:50<00:37,  9.40s/it][I 2025-01-03 21:38:05,315] Trial 16 finished with value: 1570.5673263391943 and parameters: {'num_leaves': 240, 'max_depth': 12, 'learning_rate': 0.054211504885047654, 'n_estimators': 530, 'reg_alpha': 21.90767733868891, 'reg_lambda': 35.54954434455115, 'lags': 1}. Best is trial 16 with value: 1570.5673263391943.\n",
      "Best trial: 16. Best value: 1570.57:  85%|████████▌ | 17/20 [03:14<00:41, 13.67s/it][I 2025-01-03 21:38:22,046] Trial 17 finished with value: 1620.4262831017993 and parameters: {'num_leaves': 250, 'max_depth': 12, 'learning_rate': 0.19742802724508118, 'n_estimators': 553, 'reg_alpha': 5.7961495316931355, 'reg_lambda': 31.587242600205244, 'lags': 1}. Best is trial 16 with value: 1570.5673263391943.\n",
      "Best trial: 16. Best value: 1570.57:  90%|█████████ | 18/20 [03:31<00:29, 14.59s/it][I 2025-01-03 21:38:58,511] Trial 18 finished with value: 1660.4861334059792 and parameters: {'num_leaves': 247, 'max_depth': 12, 'learning_rate': 0.18187087241867675, 'n_estimators': 983, 'reg_alpha': 1.152531563652552, 'reg_lambda': 33.75293388907594, 'lags': 1}. Best is trial 16 with value: 1570.5673263391943.\n",
      "Best trial: 16. Best value: 1570.57:  95%|█████████▌| 19/20 [04:07<00:21, 21.16s/it][I 2025-01-03 21:39:05,346] Trial 19 finished with value: 1736.6332623149008 and parameters: {'num_leaves': 256, 'max_depth': 8, 'learning_rate': 0.11917617909123704, 'n_estimators': 268, 'reg_alpha': 13.912758458527328, 'reg_lambda': 39.89470532358383, 'lags': 7}. Best is trial 16 with value: 1570.5673263391943.\n",
      "Best trial: 16. Best value: 1570.57: 100%|██████████| 20/20 [04:14<00:00, 12.73s/it]\n",
      "100%|██████████| 1/1 [00:00<00:00, 23.55it/s]\n"
     ]
    }
   ],
   "source": [
    "model_lgbm.tune()\n",
    "error_model_lgbm = model_lgbm.backtest()"
   ]
  },
  {
   "cell_type": "code",
   "execution_count": 7,
   "metadata": {},
   "outputs": [
    {
     "name": "stderr",
     "output_type": "stream",
     "text": [
      "[I 2025-01-03 21:39:53,276] A new study created in memory with name: no-name-fdf4eeca-38ba-4b88-ab1d-a5061feb7110\n",
      "  0%|          | 0/20 [00:00<?, ?it/s][I 2025-01-03 21:40:52,517] Trial 0 finished with value: 2043.5430524553572 and parameters: {'max_depth': 9, 'learning_rate': 0.018534209095602612, 'subsample': 0.7679101419026826, 'colsample_bytree': 0.6394767418976771, 'min_child_weight': 7, 'n_estimators': 600, 'alpha': 0.04910334688154566, 'lambda': 0.40093018563982386, 'lags': 23}. Best is trial 0 with value: 2043.5430524553572.\n",
      "Best trial: 0. Best value: 2043.54:   5%|▌         | 1/20 [00:59<18:45, 59.25s/it][I 2025-01-03 21:40:56,041] Trial 1 finished with value: 4231.171981956845 and parameters: {'max_depth': 6, 'learning_rate': 0.015084246314690906, 'subsample': 0.786273235482944, 'colsample_bytree': 0.6522871185460772, 'min_child_weight': 2, 'n_estimators': 150, 'alpha': 0.16639655767975775, 'lambda': 0.34551034980977446, 'lags': 15}. Best is trial 0 with value: 2043.5430524553572.\n",
      "Best trial: 0. Best value: 2043.54:  10%|█         | 2/20 [01:02<07:56, 26.47s/it][I 2025-01-03 21:41:10,832] Trial 2 finished with value: 2074.5751395089287 and parameters: {'max_depth': 9, 'learning_rate': 0.10961910368282597, 'subsample': 0.9857772256715972, 'colsample_bytree': 0.8028940176004423, 'min_child_weight': 3, 'n_estimators': 450, 'alpha': 0.48325161961387997, 'lambda': 0.19126211457182074, 'lags': 8}. Best is trial 0 with value: 2043.5430524553572.\n",
      "Best trial: 0. Best value: 2043.54:  15%|█▌        | 3/20 [01:17<05:59, 21.14s/it][I 2025-01-03 21:41:16,186] Trial 3 finished with value: 7639.685514322917 and parameters: {'max_depth': 6, 'learning_rate': 0.0011212559096991466, 'subsample': 0.9711980012706095, 'colsample_bytree': 0.7640637429940786, 'min_child_weight': 8, 'n_estimators': 400, 'alpha': 0.08383276919769045, 'lambda': 0.49349939890557665, 'lags': 1}. Best is trial 0 with value: 2043.5430524553572.\n",
      "Best trial: 0. Best value: 2043.54:  20%|██        | 4/20 [01:22<03:58, 14.91s/it][I 2025-01-03 21:42:10,681] Trial 4 finished with value: 7260.236779203869 and parameters: {'max_depth': 10, 'learning_rate': 0.0011003242149749157, 'subsample': 0.9788599639644465, 'colsample_bytree': 0.6361246437597778, 'min_child_weight': 2, 'n_estimators': 600, 'alpha': 0.094436464119241, 'lambda': 0.4535306490889602, 'lags': 11}. Best is trial 0 with value: 2043.5430524553572.\n",
      "Best trial: 0. Best value: 2043.54:  25%|██▌       | 5/20 [02:17<07:17, 29.18s/it][I 2025-01-03 21:42:18,643] Trial 5 finished with value: 8051.6366745721725 and parameters: {'max_depth': 9, 'learning_rate': 0.007820313231512927, 'subsample': 0.8700911911500657, 'colsample_bytree': 0.9548844756164241, 'min_child_weight': 8, 'n_estimators': 50, 'alpha': 0.11056390530649218, 'lambda': 0.10729730215579841, 'lags': 15}. Best is trial 0 with value: 2043.5430524553572.\n",
      "Best trial: 0. Best value: 2043.54:  30%|███       | 6/20 [02:25<05:07, 21.97s/it][I 2025-01-03 21:42:22,927] Trial 6 finished with value: 5703.405459449405 and parameters: {'max_depth': 2, 'learning_rate': 0.014951297280132133, 'subsample': 0.892494394592386, 'colsample_bytree': 0.6230249915574416, 'min_child_weight': 4, 'n_estimators': 100, 'alpha': 0.09226431847075961, 'lambda': 0.36468236002333865, 'lags': 10}. Best is trial 0 with value: 2043.5430524553572.\n",
      "Best trial: 0. Best value: 2043.54:  35%|███▌      | 7/20 [02:29<03:30, 16.18s/it][I 2025-01-03 21:42:33,770] Trial 7 finished with value: 2560.1988978794643 and parameters: {'max_depth': 3, 'learning_rate': 0.01762199282316281, 'subsample': 0.9702064304107029, 'colsample_bytree': 0.8976543050611537, 'min_child_weight': 7, 'n_estimators': 550, 'alpha': 0.08097571846946933, 'lambda': 0.2625157077897576, 'lags': 19}. Best is trial 0 with value: 2043.5430524553572.\n",
      "Best trial: 0. Best value: 2043.54:  40%|████      | 8/20 [02:40<02:53, 14.49s/it][I 2025-01-03 21:42:53,248] Trial 8 finished with value: 2140.115404110863 and parameters: {'max_depth': 10, 'learning_rate': 0.12388041987612863, 'subsample': 0.8880147401161103, 'colsample_bytree': 0.7664161376350694, 'min_child_weight': 3, 'n_estimators': 500, 'alpha': 0.4545690076319964, 'lambda': 0.3738075295490399, 'lags': 3}. Best is trial 0 with value: 2043.5430524553572.\n",
      "Best trial: 0. Best value: 2043.54:  45%|████▌     | 9/20 [02:59<02:56, 16.05s/it][I 2025-01-03 21:43:00,991] Trial 9 finished with value: 6873.798014322917 and parameters: {'max_depth': 5, 'learning_rate': 0.0020710486342287323, 'subsample': 0.9930316778090309, 'colsample_bytree': 0.7389768687284338, 'min_child_weight': 2, 'n_estimators': 550, 'alpha': 0.034861504344914584, 'lambda': 0.09386614683516759, 'lags': 21}. Best is trial 0 with value: 2043.5430524553572.\n",
      "Best trial: 0. Best value: 2043.54:  50%|█████     | 10/20 [03:07<02:14, 13.48s/it][I 2025-01-03 21:43:09,295] Trial 10 finished with value: 2244.623497953869 and parameters: {'max_depth': 8, 'learning_rate': 0.038109176145670505, 'subsample': 0.6718406224935646, 'colsample_bytree': 0.8565040240482139, 'min_child_weight': 6, 'n_estimators': 250, 'alpha': 0.3034206651685884, 'lambda': 0.00974435775687682, 'lags': 23}. Best is trial 0 with value: 2043.5430524553572.\n",
      "Best trial: 0. Best value: 2043.54:  55%|█████▌    | 11/20 [03:16<01:47, 11.90s/it][I 2025-01-03 21:43:16,825] Trial 11 finished with value: 2182.2427106584823 and parameters: {'max_depth': 7, 'learning_rate': 0.18052963234535935, 'subsample': 0.7354212549708273, 'colsample_bytree': 0.7076553789915581, 'min_child_weight': 5, 'n_estimators': 450, 'alpha': 0.4748577603936017, 'lambda': 0.2152709985642368, 'lags': 8}. Best is trial 0 with value: 2043.5430524553572.\n",
      "Best trial: 0. Best value: 2043.54:  60%|██████    | 12/20 [03:23<01:24, 10.57s/it][I 2025-01-03 21:43:28,105] Trial 12 finished with value: 2113.7869233630954 and parameters: {'max_depth': 8, 'learning_rate': 0.05258675006490318, 'subsample': 0.6083341869130909, 'colsample_bytree': 0.8356359131048731, 'min_child_weight': 4, 'n_estimators': 350, 'alpha': 0.3286827942748333, 'lambda': 0.24617593042156188, 'lags': 16}. Best is trial 0 with value: 2043.5430524553572.\n",
      "Best trial: 0. Best value: 2043.54:  65%|██████▌   | 13/20 [03:34<01:15, 10.78s/it][I 2025-01-03 21:43:39,163] Trial 13 finished with value: 6868.371347191221 and parameters: {'max_depth': 8, 'learning_rate': 0.003788612107050717, 'subsample': 0.8066002826857174, 'colsample_bytree': 0.6822723102422202, 'min_child_weight': 6, 'n_estimators': 250, 'alpha': 0.2261463545982843, 'lambda': 0.17788320677372282, 'lags': 14}. Best is trial 0 with value: 2043.5430524553572.\n",
      "Best trial: 0. Best value: 2043.54:  70%|███████   | 14/20 [03:45<01:05, 10.87s/it][I 2025-01-03 21:44:19,271] Trial 14 finished with value: 2027.9091622488838 and parameters: {'max_depth': 10, 'learning_rate': 0.05948780790077902, 'subsample': 0.7358681356883005, 'colsample_bytree': 0.8147903701368143, 'min_child_weight': 1, 'n_estimators': 600, 'alpha': 0.38954461939429197, 'lambda': 0.2988565925152993, 'lags': 18}. Best is trial 14 with value: 2027.9091622488838.\n",
      "Best trial: 14. Best value: 2027.91:  75%|███████▌  | 15/20 [04:25<01:38, 19.68s/it][I 2025-01-03 21:45:06,377] Trial 15 finished with value: 2010.8513683500744 and parameters: {'max_depth': 10, 'learning_rate': 0.04122373345135137, 'subsample': 0.7320009332837872, 'colsample_bytree': 0.9086009978389811, 'min_child_weight': 1, 'n_estimators': 600, 'alpha': 0.39716328702920134, 'lambda': 0.31052361057250366, 'lags': 18}. Best is trial 15 with value: 2010.8513683500744.\n",
      "Best trial: 15. Best value: 2010.85:  80%|████████  | 16/20 [05:13<01:51, 27.94s/it][I 2025-01-03 21:45:47,070] Trial 16 finished with value: 2136.4424269903275 and parameters: {'max_depth': 10, 'learning_rate': 0.04866457608901222, 'subsample': 0.6971301620267475, 'colsample_bytree': 0.9890420420354957, 'min_child_weight': 1, 'n_estimators': 500, 'alpha': 0.3983534080005168, 'lambda': 0.29629494589099287, 'lags': 18}. Best is trial 15 with value: 2010.8513683500744.\n",
      "Best trial: 15. Best value: 2010.85:  85%|████████▌ | 17/20 [05:53<01:35, 31.77s/it][I 2025-01-03 21:45:54,862] Trial 17 finished with value: 2239.87568359375 and parameters: {'max_depth': 4, 'learning_rate': 0.03049828256512716, 'subsample': 0.6398893561481506, 'colsample_bytree': 0.8960464112153518, 'min_child_weight': 1, 'n_estimators': 600, 'alpha': 0.36799709916120155, 'lambda': 0.3173044060536752, 'lags': 18}. Best is trial 15 with value: 2010.8513683500744.\n",
      "Best trial: 15. Best value: 2010.85:  90%|█████████ | 18/20 [06:01<00:49, 24.57s/it][I 2025-01-03 21:46:01,492] Trial 18 finished with value: 2178.0999523344494 and parameters: {'max_depth': 7, 'learning_rate': 0.08122171393664043, 'subsample': 0.7232129707808292, 'colsample_bytree': 0.9217224109609017, 'min_child_weight': 1, 'n_estimators': 250, 'alpha': 0.40630771493442386, 'lambda': 0.12600013756337242, 'lags': 18}. Best is trial 15 with value: 2010.8513683500744.\n",
      "Best trial: 15. Best value: 2010.85:  95%|█████████▌| 19/20 [06:08<00:19, 19.18s/it][I 2025-01-03 21:46:27,926] Trial 19 finished with value: 3452.764064825149 and parameters: {'max_depth': 10, 'learning_rate': 0.007318528598228836, 'subsample': 0.8207658066357477, 'colsample_bytree': 0.8271194016439296, 'min_child_weight': 3, 'n_estimators': 400, 'alpha': 0.2757418241105347, 'lambda': 0.4212631817154676, 'lags': 4}. Best is trial 15 with value: 2010.8513683500744.\n",
      "Best trial: 15. Best value: 2010.85: 100%|██████████| 20/20 [06:34<00:00, 19.73s/it]\n",
      "100%|██████████| 1/1 [00:00<00:00, 282.84it/s]\n"
     ]
    }
   ],
   "source": [
    "model_xgb.tune()\n",
    "error_model_xgb = model_xgb.backtest()"
   ]
  },
  {
   "cell_type": "code",
   "execution_count": null,
   "metadata": {},
   "outputs": [
    {
     "data": {
      "text/html": [
       "<div>\n",
       "<style scoped>\n",
       "    .dataframe tbody tr th:only-of-type {\n",
       "        vertical-align: middle;\n",
       "    }\n",
       "\n",
       "    .dataframe tbody tr th {\n",
       "        vertical-align: top;\n",
       "    }\n",
       "\n",
       "    .dataframe thead th {\n",
       "        text-align: right;\n",
       "    }\n",
       "</style>\n",
       "<table border=\"1\" class=\"dataframe\">\n",
       "  <thead>\n",
       "    <tr style=\"text-align: right;\">\n",
       "      <th></th>\n",
       "      <th>mean_absolute_error</th>\n",
       "      <th>mean_absolute_percentage_error</th>\n",
       "    </tr>\n",
       "  </thead>\n",
       "  <tbody>\n",
       "    <tr>\n",
       "      <th>0</th>\n",
       "      <td>1927.189795</td>\n",
       "      <td>0.032051</td>\n",
       "    </tr>\n",
       "  </tbody>\n",
       "</table>\n",
       "</div>"
      ],
      "text/plain": [
       "   mean_absolute_error  mean_absolute_percentage_error\n",
       "0          1927.189795                        0.032051"
      ]
     },
     "metadata": {},
     "output_type": "display_data"
    },
    {
     "data": {
      "text/html": [
       "<div>\n",
       "<style scoped>\n",
       "    .dataframe tbody tr th:only-of-type {\n",
       "        vertical-align: middle;\n",
       "    }\n",
       "\n",
       "    .dataframe tbody tr th {\n",
       "        vertical-align: top;\n",
       "    }\n",
       "\n",
       "    .dataframe thead th {\n",
       "        text-align: right;\n",
       "    }\n",
       "</style>\n",
       "<table border=\"1\" class=\"dataframe\">\n",
       "  <thead>\n",
       "    <tr style=\"text-align: right;\">\n",
       "      <th></th>\n",
       "      <th>mean_absolute_error</th>\n",
       "      <th>mean_absolute_percentage_error</th>\n",
       "    </tr>\n",
       "  </thead>\n",
       "  <tbody>\n",
       "    <tr>\n",
       "      <th>0</th>\n",
       "      <td>2618.426084</td>\n",
       "      <td>0.043018</td>\n",
       "    </tr>\n",
       "  </tbody>\n",
       "</table>\n",
       "</div>"
      ],
      "text/plain": [
       "   mean_absolute_error  mean_absolute_percentage_error\n",
       "0          2618.426084                        0.043018"
      ]
     },
     "metadata": {},
     "output_type": "display_data"
    }
   ],
   "source": [
    "display(error_model_lgbm)\n",
    "display(error_model_xgb)"
   ]
  },
  {
   "cell_type": "markdown",
   "metadata": {},
   "source": [
    "Now the same thing but with a fixed train size"
   ]
  },
  {
   "cell_type": "code",
   "execution_count": 11,
   "metadata": {},
   "outputs": [],
   "source": [
    "model_lgbm_fixed = models.ForecasterRecursiveLGBM(\n",
    "    iteration=0, end_dev=end_dev, train_size=pd.Timedelta(days=365 * 3), save_model_to_file=False\n",
    ")\n",
    "model_xgb_fixed = models.ForecasterRecursiveXGB(\n",
    "    iteration=0, end_dev=end_dev, train_size=pd.Timedelta(days=365 * 3), save_model_to_file=False\n",
    ")"
   ]
  },
  {
   "cell_type": "code",
   "execution_count": 12,
   "metadata": {},
   "outputs": [
    {
     "name": "stderr",
     "output_type": "stream",
     "text": [
      "[I 2025-01-03 21:55:29,183] A new study created in memory with name: no-name-b995a39a-c2d6-4473-9d8f-2d36f225afdb\n",
      "  0%|          | 0/20 [00:00<?, ?it/s][I 2025-01-03 21:55:32,055] Trial 0 finished with value: 8700.59336737664 and parameters: {'num_leaves': 211, 'max_depth': 10, 'learning_rate': 0.009245186633631634, 'n_estimators': 67, 'bagging_fraction': 0.905510374188283, 'feature_fraction': 0.9836782019498007, 'reg_alpha': 9.8296873093715, 'reg_lambda': 80.18801852425197, 'lags': 23}. Best is trial 0 with value: 8700.59336737664.\n",
      "Best trial: 0. Best value: 8700.59:   5%|▌         | 1/20 [00:02<00:54,  2.87s/it][I 2025-01-03 21:55:36,767] Trial 1 finished with value: 8057.178256491815 and parameters: {'num_leaves': 121, 'max_depth': 10, 'learning_rate': 0.011791003155406422, 'n_estimators': 73, 'bagging_fraction': 0.6029857430691383, 'feature_fraction': 0.6150846181503354, 'reg_alpha': 33.28598360479795, 'reg_lambda': 69.1051597549587, 'lags': 15}. Best is trial 1 with value: 8057.178256491815.\n",
      "Best trial: 1. Best value: 8057.18:  10%|█         | 2/20 [00:07<01:11,  3.96s/it][I 2025-01-03 21:55:43,375] Trial 2 finished with value: 1998.8016069827606 and parameters: {'num_leaves': 216, 'max_depth': 15, 'learning_rate': 0.16565800228766417, 'n_estimators': 227, 'bagging_fraction': 0.6674051517510717, 'feature_fraction': 0.8648152201797803, 'reg_alpha': 96.65065889038371, 'reg_lambda': 38.25859767207271, 'lags': 8}. Best is trial 2 with value: 1998.8016069827606.\n",
      "Best trial: 2. Best value: 1998.8:  15%|█▌        | 3/20 [00:14<01:27,  5.17s/it] [I 2025-01-03 21:55:46,175] Trial 3 finished with value: 2284.816555828701 and parameters: {'num_leaves': 130, 'max_depth': 3, 'learning_rate': 0.13656654997258394, 'n_estimators': 170, 'bagging_fraction': 0.9999736079988764, 'feature_fraction': 0.8097281736497223, 'reg_alpha': 16.774877184154136, 'reg_lambda': 98.70000979313721, 'lags': 1}. Best is trial 2 with value: 1998.8016069827606.\n",
      "Best trial: 2. Best value: 1998.8:  20%|██        | 4/20 [00:16<01:07,  4.23s/it][I 2025-01-03 21:55:51,427] Trial 4 finished with value: 2454.0992146971944 and parameters: {'num_leaves': 244, 'max_depth': 3, 'learning_rate': 0.15115424664626437, 'n_estimators': 65, 'bagging_fraction': 0.619042501178154, 'feature_fraction': 0.9799486305096681, 'reg_alpha': 18.895404094565816, 'reg_lambda': 90.70705920481026, 'lags': 11}. Best is trial 2 with value: 1998.8016069827606.\n",
      "Best trial: 2. Best value: 1998.8:  25%|██▌       | 5/20 [00:22<01:08,  4.60s/it][I 2025-01-03 21:56:07,926] Trial 5 finished with value: 1893.8429333086601 and parameters: {'num_leaves': 212, 'max_depth': 8, 'learning_rate': 0.03578654989495797, 'n_estimators': 713, 'bagging_fraction': 0.9840789490731199, 'feature_fraction': 0.5237091901841557, 'reg_alpha': 22.12056978319231, 'reg_lambda': 21.467314485116567, 'lags': 15}. Best is trial 5 with value: 1893.8429333086601.\n",
      "Best trial: 5. Best value: 1893.84:  30%|███       | 6/20 [00:38<02:01,  8.65s/it][I 2025-01-03 21:56:16,838] Trial 6 finished with value: 3528.2068682334593 and parameters: {'num_leaves': 32, 'max_depth': 10, 'learning_rate': 0.04814996090090855, 'n_estimators': 59, 'bagging_fraction': 0.7026238225015484, 'feature_fraction': 0.5736291101127187, 'reg_alpha': 18.461018407782507, 'reg_lambda': 72.93917835746727, 'lags': 10}. Best is trial 5 with value: 1893.8429333086601.\n",
      "Best trial: 5. Best value: 1893.84:  35%|███▌      | 7/20 [00:47<01:53,  8.73s/it][I 2025-01-03 21:56:25,116] Trial 7 finished with value: 2002.1837921598228 and parameters: {'num_leaves': 58, 'max_depth': 10, 'learning_rate': 0.1347845932612367, 'n_estimators': 464, 'bagging_fraction': 0.892622986292128, 'feature_fraction': 0.9367000065507621, 'reg_alpha': 16.203524179524475, 'reg_lambda': 52.50789124379572, 'lags': 19}. Best is trial 5 with value: 1893.8429333086601.\n",
      "Best trial: 5. Best value: 1893.84:  40%|████      | 8/20 [00:55<01:43,  8.59s/it][I 2025-01-03 21:56:45,178] Trial 8 finished with value: 1870.0593473158285 and parameters: {'num_leaves': 245, 'max_depth': 15, 'learning_rate': 0.04537601894620161, 'n_estimators': 173, 'bagging_fraction': 0.6532611212480812, 'feature_fraction': 0.887157912148971, 'reg_alpha': 90.91471014624665, 'reg_lambda': 74.764029759217, 'lags': 3}. Best is trial 8 with value: 1870.0593473158285.\n",
      "Best trial: 8. Best value: 1870.06:  45%|████▌     | 9/20 [01:15<02:13, 12.17s/it][I 2025-01-03 21:56:51,880] Trial 9 finished with value: 2009.429380473538 and parameters: {'num_leaves': 118, 'max_depth': 4, 'learning_rate': 0.18236613742953522, 'n_estimators': 141, 'bagging_fraction': 0.5907604913534006, 'feature_fraction': 0.9223873219150509, 'reg_alpha': 6.981603638896018, 'reg_lambda': 18.781352044096813, 'lags': 21}. Best is trial 8 with value: 1870.0593473158285.\n",
      "Best trial: 8. Best value: 1870.06:  50%|█████     | 10/20 [01:22<01:44, 10.49s/it][I 2025-01-03 21:57:23,070] Trial 10 finished with value: 8737.670859128566 and parameters: {'num_leaves': 176, 'max_depth': 16, 'learning_rate': 0.0016927935762003025, 'n_estimators': 320, 'bagging_fraction': 0.5237542877499349, 'feature_fraction': 0.7104732198884225, 'reg_alpha': 90.80812667296462, 'reg_lambda': 1.958676664220235, 'lags': 3}. Best is trial 8 with value: 1870.0593473158285.\n",
      "Best trial: 8. Best value: 1870.06:  55%|█████▌    | 11/20 [01:53<02:31, 16.82s/it][I 2025-01-03 21:57:56,059] Trial 11 finished with value: 2115.2268483628345 and parameters: {'num_leaves': 253, 'max_depth': 7, 'learning_rate': 0.03517434383162109, 'n_estimators': 1000, 'bagging_fraction': 0.7862916820327427, 'feature_fraction': 0.7120383341690716, 'reg_alpha': 66.73492723235182, 'reg_lambda': 43.05989429287607, 'lags': 22}. Best is trial 8 with value: 1870.0593473158285.\n",
      "Best trial: 8. Best value: 1870.06:  60%|██████    | 12/20 [02:26<02:53, 21.74s/it][I 2025-01-03 21:58:19,665] Trial 12 finished with value: 2006.6288896508124 and parameters: {'num_leaves': 176, 'max_depth': 13, 'learning_rate': 0.03546056356595802, 'n_estimators': 819, 'bagging_fraction': 0.7853980715024211, 'feature_fraction': 0.5309333097526815, 'reg_alpha': 56.09091914335478, 'reg_lambda': 18.565497927442717, 'lags': 15}. Best is trial 8 with value: 1870.0593473158285.\n",
      "Best trial: 8. Best value: 1870.06:  65%|██████▌   | 13/20 [02:50<02:36, 22.31s/it][I 2025-01-03 21:58:34,974] Trial 13 finished with value: 3784.55837746376 and parameters: {'num_leaves': 186, 'max_depth': 6, 'learning_rate': 0.005698234191079082, 'n_estimators': 536, 'bagging_fraction': 0.8587492302394109, 'feature_fraction': 0.7871923429635114, 'reg_alpha': 77.89249658280485, 'reg_lambda': 60.10587463284027, 'lags': 14}. Best is trial 8 with value: 1870.0593473158285.\n",
      "Best trial: 8. Best value: 1870.06:  70%|███████   | 14/20 [03:05<02:01, 20.19s/it][I 2025-01-03 21:58:46,788] Trial 14 finished with value: 2037.3063754099576 and parameters: {'num_leaves': 219, 'max_depth': 13, 'learning_rate': 0.06329438181290137, 'n_estimators': 116, 'bagging_fraction': 0.9913681032678321, 'feature_fraction': 0.6483063728468376, 'reg_alpha': 38.465552804419445, 'reg_lambda': 29.761550632138494, 'lags': 3}. Best is trial 8 with value: 1870.0593473158285.\n",
      "Best trial: 8. Best value: 1870.06:  75%|███████▌  | 15/20 [03:17<01:28, 17.67s/it][I 2025-01-03 21:58:54,468] Trial 15 finished with value: 2145.6528161611786 and parameters: {'num_leaves': 85, 'max_depth': 7, 'learning_rate': 0.022298028552509928, 'n_estimators': 298, 'bagging_fraction': 0.7074306004760699, 'feature_fraction': 0.5019247649448038, 'reg_alpha': 42.340558652074954, 'reg_lambda': 1.4827313027821845, 'lags': 2}. Best is trial 8 with value: 1870.0593473158285.\n",
      "Best trial: 8. Best value: 1870.06:  80%|████████  | 16/20 [03:25<00:58, 14.66s/it][I 2025-01-03 21:58:58,390] Trial 16 finished with value: 1933.2431718880184 and parameters: {'num_leaves': 158, 'max_depth': 13, 'learning_rate': 0.0738563792991685, 'n_estimators': 109, 'bagging_fraction': 0.5062540541382233, 'feature_fraction': 0.8720010888710842, 'reg_alpha': 56.17844328983278, 'reg_lambda': 59.68510173780884, 'lags': 4}. Best is trial 8 with value: 1870.0593473158285.\n",
      "Best trial: 8. Best value: 1870.06:  85%|████████▌ | 17/20 [03:29<00:34, 11.43s/it][I 2025-01-03 21:59:14,996] Trial 17 finished with value: 3638.7925759537247 and parameters: {'num_leaves': 256, 'max_depth': 8, 'learning_rate': 0.004636274789601896, 'n_estimators': 601, 'bagging_fraction': 0.8238404934131116, 'feature_fraction': 0.6846796788067107, 'reg_alpha': 81.31255299335737, 'reg_lambda': 20.209155712631873, 'lags': 13}. Best is trial 8 with value: 1870.0593473158285.\n",
      "Best trial: 8. Best value: 1870.06:  90%|█████████ | 18/20 [03:45<00:25, 12.99s/it][I 2025-01-03 21:59:26,207] Trial 18 finished with value: 1986.0485760845577 and parameters: {'num_leaves': 203, 'max_depth': 14, 'learning_rate': 0.022443328111719105, 'n_estimators': 358, 'bagging_fraction': 0.9388319015417781, 'feature_fraction': 0.7674311866315473, 'reg_alpha': 30.494603630483244, 'reg_lambda': 79.58656181353857, 'lags': 20}. Best is trial 8 with value: 1870.0593473158285.\n",
      "Best trial: 8. Best value: 1870.06:  95%|█████████▌| 19/20 [03:57<00:12, 12.45s/it][I 2025-01-03 21:59:53,380] Trial 19 finished with value: 3150.4913810056423 and parameters: {'num_leaves': 228, 'max_depth': 12, 'learning_rate': 0.01921005696462253, 'n_estimators': 179, 'bagging_fraction': 0.7412683327404921, 'feature_fraction': 0.8439323411196864, 'reg_alpha': 0.9988185612598954, 'reg_lambda': 30.01634361217137, 'lags': 18}. Best is trial 8 with value: 1870.0593473158285.\n",
      "Best trial: 8. Best value: 1870.06: 100%|██████████| 20/20 [04:24<00:00, 13.21s/it]\n",
      "100%|██████████| 1100/1100 [01:14<00:00, 14.77it/s]\n"
     ]
    }
   ],
   "source": [
    "model_lgbm_fixed.tune()\n",
    "error_model_lgbm_fixed = model_lgbm_fixed.backtest()"
   ]
  },
  {
   "cell_type": "code",
   "execution_count": 13,
   "metadata": {},
   "outputs": [
    {
     "name": "stderr",
     "output_type": "stream",
     "text": [
      "[I 2025-01-03 22:03:57,630] A new study created in memory with name: no-name-f8281e36-3594-4c37-85ae-e23d22b45e97\n",
      "  0%|          | 0/20 [00:00<?, ?it/s][I 2025-01-03 22:04:34,713] Trial 0 finished with value: 2279.1100399925595 and parameters: {'max_depth': 9, 'learning_rate': 0.018534209095602612, 'subsample': 0.7679101419026826, 'colsample_bytree': 0.6394767418976771, 'min_child_weight': 7, 'n_estimators': 600, 'alpha': 0.04910334688154566, 'lambda': 0.40093018563982386, 'lags': 23}. Best is trial 0 with value: 2279.1100399925595.\n",
      "Best trial: 0. Best value: 2279.11:   5%|▌         | 1/20 [00:37<11:44, 37.09s/it][I 2025-01-03 22:04:37,605] Trial 1 finished with value: 4449.609633091518 and parameters: {'max_depth': 6, 'learning_rate': 0.015084246314690906, 'subsample': 0.786273235482944, 'colsample_bytree': 0.6522871185460772, 'min_child_weight': 2, 'n_estimators': 150, 'alpha': 0.16639655767975775, 'lambda': 0.34551034980977446, 'lags': 15}. Best is trial 0 with value: 2279.1100399925595.\n",
      "Best trial: 0. Best value: 2279.11:  10%|█         | 2/20 [00:39<05:05, 16.97s/it][I 2025-01-03 22:04:53,106] Trial 2 finished with value: 2418.669917224702 and parameters: {'max_depth': 9, 'learning_rate': 0.10961910368282597, 'subsample': 0.9857772256715972, 'colsample_bytree': 0.8028940176004423, 'min_child_weight': 3, 'n_estimators': 450, 'alpha': 0.48325161961387997, 'lambda': 0.19126211457182074, 'lags': 8}. Best is trial 0 with value: 2279.1100399925595.\n",
      "Best trial: 0. Best value: 2279.11:  15%|█▌        | 3/20 [00:55<04:37, 16.30s/it][I 2025-01-03 22:04:59,387] Trial 3 finished with value: 8679.887755766369 and parameters: {'max_depth': 6, 'learning_rate': 0.0011212559096991466, 'subsample': 0.9711980012706095, 'colsample_bytree': 0.7640637429940786, 'min_child_weight': 8, 'n_estimators': 400, 'alpha': 0.08383276919769045, 'lambda': 0.49349939890557665, 'lags': 1}. Best is trial 0 with value: 2279.1100399925595.\n",
      "Best trial: 0. Best value: 2279.11:  20%|██        | 4/20 [01:01<03:17, 12.34s/it][I 2025-01-03 22:05:37,347] Trial 4 finished with value: 8268.10072079613 and parameters: {'max_depth': 10, 'learning_rate': 0.0011003242149749157, 'subsample': 0.9788599639644465, 'colsample_bytree': 0.6361246437597778, 'min_child_weight': 2, 'n_estimators': 600, 'alpha': 0.094436464119241, 'lambda': 0.4535306490889602, 'lags': 11}. Best is trial 0 with value: 2279.1100399925595.\n",
      "Best trial: 0. Best value: 2279.11:  25%|██▌       | 5/20 [01:39<05:23, 21.58s/it][I 2025-01-03 22:05:40,726] Trial 5 finished with value: 9155.254194568452 and parameters: {'max_depth': 9, 'learning_rate': 0.007820313231512927, 'subsample': 0.8700911911500657, 'colsample_bytree': 0.9548844756164241, 'min_child_weight': 8, 'n_estimators': 50, 'alpha': 0.11056390530649218, 'lambda': 0.10729730215579841, 'lags': 15}. Best is trial 0 with value: 2279.1100399925595.\n",
      "Best trial: 0. Best value: 2279.11:  30%|███       | 6/20 [01:43<03:35, 15.39s/it][I 2025-01-03 22:05:42,262] Trial 6 finished with value: 6373.026555524553 and parameters: {'max_depth': 2, 'learning_rate': 0.014951297280132133, 'subsample': 0.892494394592386, 'colsample_bytree': 0.6230249915574416, 'min_child_weight': 4, 'n_estimators': 100, 'alpha': 0.09226431847075961, 'lambda': 0.36468236002333865, 'lags': 10}. Best is trial 0 with value: 2279.1100399925595.\n",
      "Best trial: 0. Best value: 2279.11:  35%|███▌      | 7/20 [01:44<02:21, 10.86s/it][I 2025-01-03 22:05:48,438] Trial 7 finished with value: 2640.0529599144347 and parameters: {'max_depth': 3, 'learning_rate': 0.01762199282316281, 'subsample': 0.9702064304107029, 'colsample_bytree': 0.8976543050611537, 'min_child_weight': 7, 'n_estimators': 550, 'alpha': 0.08097571846946933, 'lambda': 0.2625157077897576, 'lags': 19}. Best is trial 0 with value: 2279.1100399925595.\n",
      "Best trial: 0. Best value: 2279.11:  40%|████      | 8/20 [01:50<01:52,  9.37s/it][I 2025-01-03 22:06:03,148] Trial 8 finished with value: 2502.4985374813987 and parameters: {'max_depth': 10, 'learning_rate': 0.12388041987612863, 'subsample': 0.8880147401161103, 'colsample_bytree': 0.7664161376350694, 'min_child_weight': 3, 'n_estimators': 500, 'alpha': 0.4545690076319964, 'lambda': 0.3738075295490399, 'lags': 3}. Best is trial 0 with value: 2279.1100399925595.\n",
      "Best trial: 0. Best value: 2279.11:  45%|████▌     | 9/20 [02:05<02:01, 11.04s/it][I 2025-01-03 22:06:10,212] Trial 9 finished with value: 7904.02574172247 and parameters: {'max_depth': 5, 'learning_rate': 0.0020710486342287323, 'subsample': 0.9930316778090309, 'colsample_bytree': 0.7389768687284338, 'min_child_weight': 2, 'n_estimators': 550, 'alpha': 0.034861504344914584, 'lambda': 0.09386614683516759, 'lags': 21}. Best is trial 0 with value: 2279.1100399925595.\n",
      "Best trial: 0. Best value: 2279.11:  50%|█████     | 10/20 [02:12<01:38,  9.81s/it][I 2025-01-03 22:06:18,398] Trial 10 finished with value: 2347.3211983816964 and parameters: {'max_depth': 8, 'learning_rate': 0.038109176145670505, 'subsample': 0.6718406224935646, 'colsample_bytree': 0.8565040240482139, 'min_child_weight': 6, 'n_estimators': 250, 'alpha': 0.3034206651685884, 'lambda': 0.00974435775687682, 'lags': 23}. Best is trial 0 with value: 2279.1100399925595.\n",
      "Best trial: 0. Best value: 2279.11:  55%|█████▌    | 11/20 [02:20<01:23,  9.31s/it][I 2025-01-03 22:06:25,179] Trial 11 finished with value: 2439.7751069568453 and parameters: {'max_depth': 8, 'learning_rate': 0.04409185402028744, 'subsample': 0.6591912808459832, 'colsample_bytree': 0.8990255494183342, 'min_child_weight': 6, 'n_estimators': 300, 'alpha': 0.3163165520982736, 'lambda': 0.012555575071049596, 'lags': 23}. Best is trial 0 with value: 2279.1100399925595.\n",
      "Best trial: 0. Best value: 2279.11:  60%|██████    | 12/20 [02:27<01:08,  8.55s/it][I 2025-01-03 22:06:32,589] Trial 12 finished with value: 2359.4530668712796 and parameters: {'max_depth': 7, 'learning_rate': 0.035568668790703695, 'subsample': 0.6787036002847571, 'colsample_bytree': 0.8493952051123266, 'min_child_weight': 6, 'n_estimators': 250, 'alpha': 0.28828638033852466, 'lambda': 0.24617593042156188, 'lags': 23}. Best is trial 0 with value: 2279.1100399925595.\n",
      "Best trial: 0. Best value: 2279.11:  65%|██████▌   | 13/20 [02:34<00:57,  8.20s/it][I 2025-01-03 22:06:40,371] Trial 13 finished with value: 7674.571042596726 and parameters: {'max_depth': 8, 'learning_rate': 0.0048332323390122955, 'subsample': 0.737538628533371, 'colsample_bytree': 0.6822723102422202, 'min_child_weight': 6, 'n_estimators': 200, 'alpha': 0.35988944095549413, 'lambda': 0.03309869763896641, 'lags': 14}. Best is trial 0 with value: 2279.1100399925595.\n",
      "Best trial: 0. Best value: 2279.11:  70%|███████   | 14/20 [02:42<00:48,  8.07s/it][I 2025-01-03 22:06:47,730] Trial 14 finished with value: 2337.8502022879466 and parameters: {'max_depth': 8, 'learning_rate': 0.0517318924844187, 'subsample': 0.7176658752134146, 'colsample_bytree': 0.7135897785413715, 'min_child_weight': 5, 'n_estimators': 350, 'alpha': 0.19229699372146936, 'lambda': 0.19397777935260607, 'lags': 18}. Best is trial 0 with value: 2279.1100399925595.\n",
      "Best trial: 0. Best value: 2279.11:  75%|███████▌  | 15/20 [02:50<00:39,  7.86s/it][I 2025-01-03 22:06:53,117] Trial 15 finished with value: 2472.092575799851 and parameters: {'max_depth': 4, 'learning_rate': 0.06998170377147159, 'subsample': 0.6098794634217299, 'colsample_bytree': 0.7025177464385588, 'min_child_weight': 5, 'n_estimators': 400, 'alpha': 0.20010505933232356, 'lambda': 0.19817251896715868, 'lags': 18}. Best is trial 0 with value: 2279.1100399925595.\n",
      "Best trial: 0. Best value: 2279.11:  80%|████████  | 16/20 [02:55<00:28,  7.11s/it][I 2025-01-03 22:07:01,636] Trial 16 finished with value: 2390.1039922805057 and parameters: {'max_depth': 7, 'learning_rate': 0.17996533905633463, 'subsample': 0.7626240316240629, 'colsample_bytree': 0.6018245547742942, 'min_child_weight': 5, 'n_estimators': 350, 'alpha': 0.005713229141176834, 'lambda': 0.31105424810546156, 'lags': 18}. Best is trial 0 with value: 2279.1100399925595.\n",
      "Best trial: 0. Best value: 2279.11:  85%|████████▌ | 17/20 [03:04<00:22,  7.54s/it][I 2025-01-03 22:07:26,693] Trial 17 finished with value: 2947.3628720238094 and parameters: {'max_depth': 9, 'learning_rate': 0.0059659461022043775, 'subsample': 0.832608561243409, 'colsample_bytree': 0.6844775758015915, 'min_child_weight': 7, 'n_estimators': 600, 'alpha': 0.18512219112575898, 'lambda': 0.42715527127059016, 'lags': 16}. Best is trial 0 with value: 2279.1100399925595.\n",
      "Best trial: 0. Best value: 2279.11:  90%|█████████ | 18/20 [03:29<00:25, 12.80s/it][I 2025-01-03 22:07:32,575] Trial 18 finished with value: 2327.6255045572916 and parameters: {'max_depth': 7, 'learning_rate': 0.025644609988078958, 'subsample': 0.7323478534531975, 'colsample_bytree': 0.7223640063285336, 'min_child_weight': 4, 'n_estimators': 450, 'alpha': 0.2307173266497414, 'lambda': 0.16390431157191343, 'lags': 12}. Best is trial 0 with value: 2279.1100399925595.\n",
      "Best trial: 0. Best value: 2279.11:  95%|█████████▌| 19/20 [03:34<00:10, 10.72s/it][I 2025-01-03 22:07:36,603] Trial 19 finished with value: 2401.1645693824403 and parameters: {'max_depth': 5, 'learning_rate': 0.024954502807925126, 'subsample': 0.8148127928450042, 'colsample_bytree': 0.8113309875019622, 'min_child_weight': 1, 'n_estimators': 500, 'alpha': 0.40430590198783617, 'lambda': 0.12860187914902768, 'lags': 4}. Best is trial 0 with value: 2279.1100399925595.\n",
      "Best trial: 0. Best value: 2279.11: 100%|██████████| 20/20 [03:38<00:00, 10.95s/it]\n",
      "100%|██████████| 1100/1100 [01:31<00:00, 12.00it/s]\n"
     ]
    }
   ],
   "source": [
    "model_xgb_fixed.tune()\n",
    "error_model_xgb_fixed = model_xgb_fixed.backtest()"
   ]
  },
  {
   "cell_type": "code",
   "execution_count": 14,
   "metadata": {},
   "outputs": [
    {
     "data": {
      "text/html": [
       "<div>\n",
       "<style scoped>\n",
       "    .dataframe tbody tr th:only-of-type {\n",
       "        vertical-align: middle;\n",
       "    }\n",
       "\n",
       "    .dataframe tbody tr th {\n",
       "        vertical-align: top;\n",
       "    }\n",
       "\n",
       "    .dataframe thead th {\n",
       "        text-align: right;\n",
       "    }\n",
       "</style>\n",
       "<table border=\"1\" class=\"dataframe\">\n",
       "  <thead>\n",
       "    <tr style=\"text-align: right;\">\n",
       "      <th></th>\n",
       "      <th>mean_absolute_error</th>\n",
       "      <th>mean_absolute_percentage_error</th>\n",
       "    </tr>\n",
       "  </thead>\n",
       "  <tbody>\n",
       "    <tr>\n",
       "      <th>0</th>\n",
       "      <td>1578.493391</td>\n",
       "      <td>0.032218</td>\n",
       "    </tr>\n",
       "  </tbody>\n",
       "</table>\n",
       "</div>"
      ],
      "text/plain": [
       "   mean_absolute_error  mean_absolute_percentage_error\n",
       "0          1578.493391                        0.032218"
      ]
     },
     "metadata": {},
     "output_type": "display_data"
    },
    {
     "data": {
      "text/html": [
       "<div>\n",
       "<style scoped>\n",
       "    .dataframe tbody tr th:only-of-type {\n",
       "        vertical-align: middle;\n",
       "    }\n",
       "\n",
       "    .dataframe tbody tr th {\n",
       "        vertical-align: top;\n",
       "    }\n",
       "\n",
       "    .dataframe thead th {\n",
       "        text-align: right;\n",
       "    }\n",
       "</style>\n",
       "<table border=\"1\" class=\"dataframe\">\n",
       "  <thead>\n",
       "    <tr style=\"text-align: right;\">\n",
       "      <th></th>\n",
       "      <th>mean_absolute_error</th>\n",
       "      <th>mean_absolute_percentage_error</th>\n",
       "    </tr>\n",
       "  </thead>\n",
       "  <tbody>\n",
       "    <tr>\n",
       "      <th>0</th>\n",
       "      <td>1592.260611</td>\n",
       "      <td>0.031815</td>\n",
       "    </tr>\n",
       "  </tbody>\n",
       "</table>\n",
       "</div>"
      ],
      "text/plain": [
       "   mean_absolute_error  mean_absolute_percentage_error\n",
       "0          1592.260611                        0.031815"
      ]
     },
     "metadata": {},
     "output_type": "display_data"
    }
   ],
   "source": [
    "display(error_model_lgbm_fixed)\n",
    "display(error_model_xgb_fixed)"
   ]
  },
  {
   "cell_type": "code",
   "execution_count": null,
   "metadata": {},
   "outputs": [],
   "source": []
  }
 ],
 "metadata": {
  "kernelspec": {
   "display_name": ".venv",
   "language": "python",
   "name": "python3"
  },
  "language_info": {
   "codemirror_mode": {
    "name": "ipython",
    "version": 3
   },
   "file_extension": ".py",
   "mimetype": "text/x-python",
   "name": "python",
   "nbconvert_exporter": "python",
   "pygments_lexer": "ipython3",
   "version": "3.11.9"
  }
 },
 "nbformat": 4,
 "nbformat_minor": 2
}
